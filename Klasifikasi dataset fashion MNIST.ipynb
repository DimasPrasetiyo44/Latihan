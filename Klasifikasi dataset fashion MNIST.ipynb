{
 "cells": [
  {
   "cell_type": "code",
   "execution_count": 1,
   "metadata": {},
   "outputs": [
    {
     "ename": "EOFError",
     "evalue": "Compressed file ended before the end-of-stream marker was reached",
     "output_type": "error",
     "traceback": [
      "\u001b[1;31m---------------------------------------------------------------------------\u001b[0m",
      "\u001b[1;31mEOFError\u001b[0m                                  Traceback (most recent call last)",
      "\u001b[1;32mc:\\Code\\Jupyter notebook\\Klasifikasi dataset fashion MNIST.ipynb Cell 1\u001b[0m in \u001b[0;36m<cell line: 4>\u001b[1;34m()\u001b[0m\n\u001b[0;32m      <a href='vscode-notebook-cell:/c%3A/Code/Jupyter%20notebook/Klasifikasi%20dataset%20fashion%20MNIST.ipynb#ch0000000?line=0'>1</a>\u001b[0m \u001b[39mimport\u001b[39;00m \u001b[39mtensorflow\u001b[39;00m \u001b[39mas\u001b[39;00m \u001b[39mtf\u001b[39;00m\n\u001b[0;32m      <a href='vscode-notebook-cell:/c%3A/Code/Jupyter%20notebook/Klasifikasi%20dataset%20fashion%20MNIST.ipynb#ch0000000?line=1'>2</a>\u001b[0m mnist \u001b[39m=\u001b[39m tf\u001b[39m.\u001b[39mkeras\u001b[39m.\u001b[39mdatasets\u001b[39m.\u001b[39mfashion_mnist\n\u001b[1;32m----> <a href='vscode-notebook-cell:/c%3A/Code/Jupyter%20notebook/Klasifikasi%20dataset%20fashion%20MNIST.ipynb#ch0000000?line=3'>4</a>\u001b[0m (x_train, y_train), (x_test, y_test) \u001b[39m=\u001b[39m mnist\u001b[39m.\u001b[39;49mload_data()\n\u001b[0;32m      <a href='vscode-notebook-cell:/c%3A/Code/Jupyter%20notebook/Klasifikasi%20dataset%20fashion%20MNIST.ipynb#ch0000000?line=4'>5</a>\u001b[0m x_train, x_test \u001b[39m=\u001b[39m x_train \u001b[39m/\u001b[39m \u001b[39m255.0\u001b[39m, x_test \u001b[39m/\u001b[39m\u001b[39m255.0\u001b[39m\n\u001b[0;32m      <a href='vscode-notebook-cell:/c%3A/Code/Jupyter%20notebook/Klasifikasi%20dataset%20fashion%20MNIST.ipynb#ch0000000?line=6'>7</a>\u001b[0m model \u001b[39m=\u001b[39m tf\u001b[39m.\u001b[39mkeras\u001b[39m.\u001b[39mmodels\u001b[39m.\u001b[39mSequential([\n\u001b[0;32m      <a href='vscode-notebook-cell:/c%3A/Code/Jupyter%20notebook/Klasifikasi%20dataset%20fashion%20MNIST.ipynb#ch0000000?line=7'>8</a>\u001b[0m     tf\u001b[39m.\u001b[39mkeras\u001b[39m.\u001b[39mlayers\u001b[39m.\u001b[39mFlatten(input_shape\u001b[39m=\u001b[39m (\u001b[39m28\u001b[39m, \u001b[39m28\u001b[39m)), \n\u001b[0;32m      <a href='vscode-notebook-cell:/c%3A/Code/Jupyter%20notebook/Klasifikasi%20dataset%20fashion%20MNIST.ipynb#ch0000000?line=8'>9</a>\u001b[0m     tf\u001b[39m.\u001b[39mkeras\u001b[39m.\u001b[39mlayers\u001b[39m.\u001b[39mDense(\u001b[39m512\u001b[39m, activation\u001b[39m=\u001b[39m tf\u001b[39m.\u001b[39mnn\u001b[39m.\u001b[39mrelu),\n\u001b[0;32m     <a href='vscode-notebook-cell:/c%3A/Code/Jupyter%20notebook/Klasifikasi%20dataset%20fashion%20MNIST.ipynb#ch0000000?line=9'>10</a>\u001b[0m     tf\u001b[39m.\u001b[39mkeras\u001b[39m.\u001b[39mlayers\u001b[39m.\u001b[39mDense(\u001b[39m10\u001b[39m, activation\u001b[39m=\u001b[39m tf\u001b[39m.\u001b[39mnn\u001b[39m.\u001b[39msoftmax)\n\u001b[0;32m     <a href='vscode-notebook-cell:/c%3A/Code/Jupyter%20notebook/Klasifikasi%20dataset%20fashion%20MNIST.ipynb#ch0000000?line=10'>11</a>\u001b[0m ])\n",
      "File \u001b[1;32mc:\\Users\\ASUS\\AppData\\Local\\Programs\\Python\\Python310\\lib\\site-packages\\keras\\datasets\\fashion_mnist.py:96\u001b[0m, in \u001b[0;36mload_data\u001b[1;34m()\u001b[0m\n\u001b[0;32m     92\u001b[0m   y_train \u001b[39m=\u001b[39m np\u001b[39m.\u001b[39mfrombuffer(lbpath\u001b[39m.\u001b[39mread(), np\u001b[39m.\u001b[39muint8, offset\u001b[39m=\u001b[39m\u001b[39m8\u001b[39m)\n\u001b[0;32m     94\u001b[0m \u001b[39mwith\u001b[39;00m gzip\u001b[39m.\u001b[39mopen(paths[\u001b[39m1\u001b[39m], \u001b[39m'\u001b[39m\u001b[39mrb\u001b[39m\u001b[39m'\u001b[39m) \u001b[39mas\u001b[39;00m imgpath:\n\u001b[0;32m     95\u001b[0m   x_train \u001b[39m=\u001b[39m np\u001b[39m.\u001b[39mfrombuffer(\n\u001b[1;32m---> 96\u001b[0m       imgpath\u001b[39m.\u001b[39;49mread(), np\u001b[39m.\u001b[39muint8, offset\u001b[39m=\u001b[39m\u001b[39m16\u001b[39m)\u001b[39m.\u001b[39mreshape(\u001b[39mlen\u001b[39m(y_train), \u001b[39m28\u001b[39m, \u001b[39m28\u001b[39m)\n\u001b[0;32m     98\u001b[0m \u001b[39mwith\u001b[39;00m gzip\u001b[39m.\u001b[39mopen(paths[\u001b[39m2\u001b[39m], \u001b[39m'\u001b[39m\u001b[39mrb\u001b[39m\u001b[39m'\u001b[39m) \u001b[39mas\u001b[39;00m lbpath:\n\u001b[0;32m     99\u001b[0m   y_test \u001b[39m=\u001b[39m np\u001b[39m.\u001b[39mfrombuffer(lbpath\u001b[39m.\u001b[39mread(), np\u001b[39m.\u001b[39muint8, offset\u001b[39m=\u001b[39m\u001b[39m8\u001b[39m)\n",
      "File \u001b[1;32mc:\\Users\\ASUS\\AppData\\Local\\Programs\\Python\\Python310\\lib\\gzip.py:301\u001b[0m, in \u001b[0;36mGzipFile.read\u001b[1;34m(self, size)\u001b[0m\n\u001b[0;32m    299\u001b[0m     \u001b[39mimport\u001b[39;00m \u001b[39merrno\u001b[39;00m\n\u001b[0;32m    300\u001b[0m     \u001b[39mraise\u001b[39;00m \u001b[39mOSError\u001b[39;00m(errno\u001b[39m.\u001b[39mEBADF, \u001b[39m\"\u001b[39m\u001b[39mread() on write-only GzipFile object\u001b[39m\u001b[39m\"\u001b[39m)\n\u001b[1;32m--> 301\u001b[0m \u001b[39mreturn\u001b[39;00m \u001b[39mself\u001b[39;49m\u001b[39m.\u001b[39;49m_buffer\u001b[39m.\u001b[39;49mread(size)\n",
      "File \u001b[1;32mc:\\Users\\ASUS\\AppData\\Local\\Programs\\Python\\Python310\\lib\\_compression.py:118\u001b[0m, in \u001b[0;36mDecompressReader.readall\u001b[1;34m(self)\u001b[0m\n\u001b[0;32m    114\u001b[0m chunks \u001b[39m=\u001b[39m []\n\u001b[0;32m    115\u001b[0m \u001b[39m# sys.maxsize means the max length of output buffer is unlimited,\u001b[39;00m\n\u001b[0;32m    116\u001b[0m \u001b[39m# so that the whole input buffer can be decompressed within one\u001b[39;00m\n\u001b[0;32m    117\u001b[0m \u001b[39m# .decompress() call.\u001b[39;00m\n\u001b[1;32m--> 118\u001b[0m \u001b[39mwhile\u001b[39;00m data \u001b[39m:=\u001b[39m \u001b[39mself\u001b[39;49m\u001b[39m.\u001b[39;49mread(sys\u001b[39m.\u001b[39;49mmaxsize):\n\u001b[0;32m    119\u001b[0m     chunks\u001b[39m.\u001b[39mappend(data)\n\u001b[0;32m    121\u001b[0m \u001b[39mreturn\u001b[39;00m \u001b[39mb\u001b[39m\u001b[39m\"\u001b[39m\u001b[39m\"\u001b[39m\u001b[39m.\u001b[39mjoin(chunks)\n",
      "File \u001b[1;32mc:\\Users\\ASUS\\AppData\\Local\\Programs\\Python\\Python310\\lib\\gzip.py:507\u001b[0m, in \u001b[0;36m_GzipReader.read\u001b[1;34m(self, size)\u001b[0m\n\u001b[0;32m    505\u001b[0m         \u001b[39mbreak\u001b[39;00m\n\u001b[0;32m    506\u001b[0m     \u001b[39mif\u001b[39;00m buf \u001b[39m==\u001b[39m \u001b[39mb\u001b[39m\u001b[39m\"\u001b[39m\u001b[39m\"\u001b[39m:\n\u001b[1;32m--> 507\u001b[0m         \u001b[39mraise\u001b[39;00m \u001b[39mEOFError\u001b[39;00m(\u001b[39m\"\u001b[39m\u001b[39mCompressed file ended before the \u001b[39m\u001b[39m\"\u001b[39m\n\u001b[0;32m    508\u001b[0m                        \u001b[39m\"\u001b[39m\u001b[39mend-of-stream marker was reached\u001b[39m\u001b[39m\"\u001b[39m)\n\u001b[0;32m    510\u001b[0m \u001b[39mself\u001b[39m\u001b[39m.\u001b[39m_add_read_data( uncompress )\n\u001b[0;32m    511\u001b[0m \u001b[39mself\u001b[39m\u001b[39m.\u001b[39m_pos \u001b[39m+\u001b[39m\u001b[39m=\u001b[39m \u001b[39mlen\u001b[39m(uncompress)\n",
      "\u001b[1;31mEOFError\u001b[0m: Compressed file ended before the end-of-stream marker was reached"
     ]
    }
   ],
   "source": [
    "import tensorflow as tf\n",
    "mnist = tf.keras.datasets.fashion_mnist\n",
    "\n",
    "(x_train, y_train), (x_test, y_test) = mnist.load_data()\n",
    "x_train, x_test = x_train / 255.0, x_test /255.0\n",
    "\n",
    "model = tf.keras.models.Sequential([\n",
    "    tf.keras.layers.Flatten(input_shape= (28, 28)), \n",
    "    tf.keras.layers.Dense(512, activation= tf.nn.relu),\n",
    "    tf.keras.layers.Dense(10, activation= tf.nn.softmax)\n",
    "])\n",
    "\n",
    "model.comple(optimize= tf.optimizers.adam(), \n",
    "            loss='spare_categorial_crossentropy',\n",
    "            metrics=['accuracy'])\n",
    "\n",
    "model.fit(x_train, y_train, epochs=10)\n"
   ]
  }
 ],
 "metadata": {
  "kernelspec": {
   "display_name": "Python 3.10.1 64-bit",
   "language": "python",
   "name": "python3"
  },
  "language_info": {
   "codemirror_mode": {
    "name": "ipython",
    "version": 3
   },
   "file_extension": ".py",
   "mimetype": "text/x-python",
   "name": "python",
   "nbconvert_exporter": "python",
   "pygments_lexer": "ipython3",
   "version": "3.10.1"
  },
  "orig_nbformat": 4,
  "vscode": {
   "interpreter": {
    "hash": "27f6fea6f47ae512550f0b8facdbd035a93e1dd89633f7bf2dd00a2502c71d0d"
   }
  }
 },
 "nbformat": 4,
 "nbformat_minor": 2
}
