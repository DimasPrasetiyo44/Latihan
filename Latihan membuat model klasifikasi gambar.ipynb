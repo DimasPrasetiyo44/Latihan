{
 "cells": [
  {
   "cell_type": "code",
   "execution_count": 1,
   "metadata": {},
   "outputs": [
    {
     "name": "stdout",
     "output_type": "stream",
     "text": [
      "2.8.0\n"
     ]
    }
   ],
   "source": [
    "import tensorflow as tf\n",
    "print(tf.__version__)"
   ]
  },
  {
   "cell_type": "code",
   "execution_count": 2,
   "metadata": {},
   "outputs": [],
   "source": [
    "# melakukan ekstraksi pada file zip\n",
    "import zipfile36 as zipfile\n",
    "import os \n",
    "local_zip = '/CODE/Jupyter notebook/messy-vs-clean-room.zip'\n",
    "zip_ref = zipfile.ZipFile(local_zip, 'r')\n",
    "zip_ref.extractall('/temp')\n",
    "zip_ref.close()\n",
    "\n",
    "base_dir = '/tmp/images'\n",
    "train_dir = os.path.join(base_dir, 'train')\n",
    "validation_dir = os.path.join(base_dir, 'val')"
   ]
  },
  {
   "cell_type": "code",
   "execution_count": 3,
   "metadata": {},
   "outputs": [
    {
     "data": {
      "text/plain": [
       "['clean', 'messy']"
      ]
     },
     "execution_count": 3,
     "metadata": {},
     "output_type": "execute_result"
    }
   ],
   "source": [
    "os.listdir('/temp/images/train')"
   ]
  },
  {
   "cell_type": "code",
   "execution_count": 4,
   "metadata": {},
   "outputs": [
    {
     "data": {
      "text/plain": [
       "['clean', 'messy']"
      ]
     },
     "execution_count": 4,
     "metadata": {},
     "output_type": "execute_result"
    }
   ],
   "source": [
    "os.listdir('/temp/images/val')"
   ]
  },
  {
   "cell_type": "code",
   "execution_count": 5,
   "metadata": {},
   "outputs": [],
   "source": [
    "# make a neat room directory in the training data directory\n",
    "train_clean_dir = os.path.join (train_dir, 'clean')\n",
    "# make a messy room directory in the training data directory\n",
    "train_messy_dir = os.path.join (train_dir, 'messy')\n",
    "# make a neat room directory in the data validation directory\n",
    "validation_clean_dir = os.path.join (validation_dir, 'clean')\n",
    "# make a messy room directory in the data validation directory\n",
    "validation_messy_dir = os.path.join (validation_dir, 'messy')"
   ]
  },
  {
   "cell_type": "code",
   "execution_count": 6,
   "metadata": {},
   "outputs": [],
   "source": [
    "from keras.preprocessing.image import ImageDataGenerator\n",
    "train_datagen = ImageDataGenerator(\n",
    "                    rescale =1./255,\n",
    "                    rotation_range = 20,\n",
    "                    horizontal_flip = True,\n",
    "                    shear_range = 0.2,\n",
    "                    fill_mode = 'nearest'\n",
    ")\n",
    "test_datagen = ImageDataGenerator(\n",
    "                    rescale=1./255\n",
    ") "
   ]
  },
  {
   "cell_type": "code",
   "execution_count": 12,
   "metadata": {},
   "outputs": [],
   "source": [
    "# from keras.preprocessing.image import ImageDataGenerator\n",
    "# train_datagen = ImageDataGenerator(\n",
    "#                     rescale = 1./255,\n",
    "#                     rotation_range = 20,\n",
    "#                     horizontal_flip = True,\n",
    "#                     shear_range = 0.2,\n",
    "#                     fill_mode = 'nearest')\n",
    "\n",
    "# test_datagen = ImageDataGenerator(\n",
    "#                     rescale = 1./255,\n",
    "#                     rotation_range = 20,\n",
    "#                     horizontal_flip = True,\n",
    "#                     shear_range = 0.2,\n",
    "#                     fill_mode = 'nearest')"
   ]
  },
  {
   "cell_type": "code",
   "execution_count": 7,
   "metadata": {},
   "outputs": [
    {
     "ename": "FileNotFoundError",
     "evalue": "[WinError 3] The system cannot find the path specified: '/tmp/images\\\\train'",
     "output_type": "error",
     "traceback": [
      "\u001b[1;31m---------------------------------------------------------------------------\u001b[0m",
      "\u001b[1;31mFileNotFoundError\u001b[0m                         Traceback (most recent call last)",
      "\u001b[1;32mc:\\Code\\Jupyter notebook\\Latihan membuat model klasifikasi gambar.ipynb Cell 8\u001b[0m in \u001b[0;36m<cell line: 1>\u001b[1;34m()\u001b[0m\n\u001b[1;32m----> <a href='vscode-notebook-cell:/c%3A/Code/Jupyter%20notebook/Latihan%20membuat%20model%20klasifikasi%20gambar.ipynb#ch0000007?line=0'>1</a>\u001b[0m train_generator \u001b[39m=\u001b[39m train_datagen\u001b[39m.\u001b[39;49mflow_from_directory(\n\u001b[0;32m      <a href='vscode-notebook-cell:/c%3A/Code/Jupyter%20notebook/Latihan%20membuat%20model%20klasifikasi%20gambar.ipynb#ch0000007?line=1'>2</a>\u001b[0m                     train_dir,\n\u001b[0;32m      <a href='vscode-notebook-cell:/c%3A/Code/Jupyter%20notebook/Latihan%20membuat%20model%20klasifikasi%20gambar.ipynb#ch0000007?line=2'>3</a>\u001b[0m                     target_size \u001b[39m=\u001b[39;49m (\u001b[39m150\u001b[39;49m,\u001b[39m150\u001b[39;49m),\n\u001b[0;32m      <a href='vscode-notebook-cell:/c%3A/Code/Jupyter%20notebook/Latihan%20membuat%20model%20klasifikasi%20gambar.ipynb#ch0000007?line=3'>4</a>\u001b[0m                     batch_size \u001b[39m=\u001b[39;49m \u001b[39m4\u001b[39;49m,\n\u001b[0;32m      <a href='vscode-notebook-cell:/c%3A/Code/Jupyter%20notebook/Latihan%20membuat%20model%20klasifikasi%20gambar.ipynb#ch0000007?line=4'>5</a>\u001b[0m                     class_mode \u001b[39m=\u001b[39;49m \u001b[39m'\u001b[39;49m\u001b[39mbinary\u001b[39;49m\u001b[39m'\u001b[39;49m\u001b[39m#karena masalah klasifikasi 2 kelas\u001b[39;49;00m\n\u001b[0;32m      <a href='vscode-notebook-cell:/c%3A/Code/Jupyter%20notebook/Latihan%20membuat%20model%20klasifikasi%20gambar.ipynb#ch0000007?line=5'>6</a>\u001b[0m )\n\u001b[0;32m      <a href='vscode-notebook-cell:/c%3A/Code/Jupyter%20notebook/Latihan%20membuat%20model%20klasifikasi%20gambar.ipynb#ch0000007?line=7'>8</a>\u001b[0m validation_generator \u001b[39m=\u001b[39m test_datagen\u001b[39m.\u001b[39mflow_from_directory(\n\u001b[0;32m      <a href='vscode-notebook-cell:/c%3A/Code/Jupyter%20notebook/Latihan%20membuat%20model%20klasifikasi%20gambar.ipynb#ch0000007?line=8'>9</a>\u001b[0m                     validation_dir,\n\u001b[0;32m     <a href='vscode-notebook-cell:/c%3A/Code/Jupyter%20notebook/Latihan%20membuat%20model%20klasifikasi%20gambar.ipynb#ch0000007?line=9'>10</a>\u001b[0m                     target_size \u001b[39m=\u001b[39m (\u001b[39m150\u001b[39m,\u001b[39m150\u001b[39m),\n\u001b[0;32m     <a href='vscode-notebook-cell:/c%3A/Code/Jupyter%20notebook/Latihan%20membuat%20model%20klasifikasi%20gambar.ipynb#ch0000007?line=10'>11</a>\u001b[0m                     batch_size \u001b[39m=\u001b[39m \u001b[39m4\u001b[39m,\n\u001b[0;32m     <a href='vscode-notebook-cell:/c%3A/Code/Jupyter%20notebook/Latihan%20membuat%20model%20klasifikasi%20gambar.ipynb#ch0000007?line=11'>12</a>\u001b[0m                     class_mode \u001b[39m=\u001b[39m \u001b[39m'\u001b[39m\u001b[39mbinary\u001b[39m\u001b[39m'\u001b[39m\u001b[39m#karena masalah klasifikasi 2 kelas\u001b[39;00m\n\u001b[0;32m     <a href='vscode-notebook-cell:/c%3A/Code/Jupyter%20notebook/Latihan%20membuat%20model%20klasifikasi%20gambar.ipynb#ch0000007?line=12'>13</a>\u001b[0m )\n",
      "File \u001b[1;32mc:\\Users\\ASUS\\AppData\\Local\\Programs\\Python\\Python310\\lib\\site-packages\\keras\\preprocessing\\image.py:976\u001b[0m, in \u001b[0;36mImageDataGenerator.flow_from_directory\u001b[1;34m(self, directory, target_size, color_mode, classes, class_mode, batch_size, shuffle, seed, save_to_dir, save_prefix, save_format, follow_links, subset, interpolation)\u001b[0m\n\u001b[0;32m    898\u001b[0m \u001b[39mdef\u001b[39;00m \u001b[39mflow_from_directory\u001b[39m(\u001b[39mself\u001b[39m,\n\u001b[0;32m    899\u001b[0m                         directory,\n\u001b[0;32m    900\u001b[0m                         target_size\u001b[39m=\u001b[39m(\u001b[39m256\u001b[39m, \u001b[39m256\u001b[39m),\n\u001b[1;32m   (...)\u001b[0m\n\u001b[0;32m    911\u001b[0m                         subset\u001b[39m=\u001b[39m\u001b[39mNone\u001b[39;00m,\n\u001b[0;32m    912\u001b[0m                         interpolation\u001b[39m=\u001b[39m\u001b[39m'\u001b[39m\u001b[39mnearest\u001b[39m\u001b[39m'\u001b[39m):\n\u001b[0;32m    913\u001b[0m   \u001b[39m\"\"\"Takes the path to a directory & generates batches of augmented data.\u001b[39;00m\n\u001b[0;32m    914\u001b[0m \n\u001b[0;32m    915\u001b[0m \u001b[39m  Args:\u001b[39;00m\n\u001b[1;32m   (...)\u001b[0m\n\u001b[0;32m    974\u001b[0m \u001b[39m          and `y` is a numpy array of corresponding labels.\u001b[39;00m\n\u001b[0;32m    975\u001b[0m \u001b[39m  \"\"\"\u001b[39;00m\n\u001b[1;32m--> 976\u001b[0m   \u001b[39mreturn\u001b[39;00m DirectoryIterator(\n\u001b[0;32m    977\u001b[0m       directory,\n\u001b[0;32m    978\u001b[0m       \u001b[39mself\u001b[39;49m,\n\u001b[0;32m    979\u001b[0m       target_size\u001b[39m=\u001b[39;49mtarget_size,\n\u001b[0;32m    980\u001b[0m       color_mode\u001b[39m=\u001b[39;49mcolor_mode,\n\u001b[0;32m    981\u001b[0m       classes\u001b[39m=\u001b[39;49mclasses,\n\u001b[0;32m    982\u001b[0m       class_mode\u001b[39m=\u001b[39;49mclass_mode,\n\u001b[0;32m    983\u001b[0m       data_format\u001b[39m=\u001b[39;49m\u001b[39mself\u001b[39;49m\u001b[39m.\u001b[39;49mdata_format,\n\u001b[0;32m    984\u001b[0m       batch_size\u001b[39m=\u001b[39;49mbatch_size,\n\u001b[0;32m    985\u001b[0m       shuffle\u001b[39m=\u001b[39;49mshuffle,\n\u001b[0;32m    986\u001b[0m       seed\u001b[39m=\u001b[39;49mseed,\n\u001b[0;32m    987\u001b[0m       save_to_dir\u001b[39m=\u001b[39;49msave_to_dir,\n\u001b[0;32m    988\u001b[0m       save_prefix\u001b[39m=\u001b[39;49msave_prefix,\n\u001b[0;32m    989\u001b[0m       save_format\u001b[39m=\u001b[39;49msave_format,\n\u001b[0;32m    990\u001b[0m       follow_links\u001b[39m=\u001b[39;49mfollow_links,\n\u001b[0;32m    991\u001b[0m       subset\u001b[39m=\u001b[39;49msubset,\n\u001b[0;32m    992\u001b[0m       interpolation\u001b[39m=\u001b[39;49minterpolation)\n",
      "File \u001b[1;32mc:\\Users\\ASUS\\AppData\\Local\\Programs\\Python\\Python310\\lib\\site-packages\\keras\\preprocessing\\image.py:394\u001b[0m, in \u001b[0;36mDirectoryIterator.__init__\u001b[1;34m(self, directory, image_data_generator, target_size, color_mode, classes, class_mode, batch_size, shuffle, seed, data_format, save_to_dir, save_prefix, save_format, follow_links, subset, interpolation, dtype)\u001b[0m\n\u001b[0;32m    392\u001b[0m     dtype \u001b[39m=\u001b[39m backend\u001b[39m.\u001b[39mfloatx()\n\u001b[0;32m    393\u001b[0m   kwargs[\u001b[39m'\u001b[39m\u001b[39mdtype\u001b[39m\u001b[39m'\u001b[39m] \u001b[39m=\u001b[39m dtype\n\u001b[1;32m--> 394\u001b[0m \u001b[39msuper\u001b[39m(DirectoryIterator, \u001b[39mself\u001b[39m)\u001b[39m.\u001b[39m\u001b[39m__init__\u001b[39m(\n\u001b[0;32m    395\u001b[0m     directory, image_data_generator,\n\u001b[0;32m    396\u001b[0m     target_size\u001b[39m=\u001b[39mtarget_size,\n\u001b[0;32m    397\u001b[0m     color_mode\u001b[39m=\u001b[39mcolor_mode,\n\u001b[0;32m    398\u001b[0m     classes\u001b[39m=\u001b[39mclasses,\n\u001b[0;32m    399\u001b[0m     class_mode\u001b[39m=\u001b[39mclass_mode,\n\u001b[0;32m    400\u001b[0m     batch_size\u001b[39m=\u001b[39mbatch_size,\n\u001b[0;32m    401\u001b[0m     shuffle\u001b[39m=\u001b[39mshuffle,\n\u001b[0;32m    402\u001b[0m     seed\u001b[39m=\u001b[39mseed,\n\u001b[0;32m    403\u001b[0m     data_format\u001b[39m=\u001b[39mdata_format,\n\u001b[0;32m    404\u001b[0m     save_to_dir\u001b[39m=\u001b[39msave_to_dir,\n\u001b[0;32m    405\u001b[0m     save_prefix\u001b[39m=\u001b[39msave_prefix,\n\u001b[0;32m    406\u001b[0m     save_format\u001b[39m=\u001b[39msave_format,\n\u001b[0;32m    407\u001b[0m     follow_links\u001b[39m=\u001b[39mfollow_links,\n\u001b[0;32m    408\u001b[0m     subset\u001b[39m=\u001b[39msubset,\n\u001b[0;32m    409\u001b[0m     interpolation\u001b[39m=\u001b[39minterpolation,\n\u001b[0;32m    410\u001b[0m     \u001b[39m*\u001b[39m\u001b[39m*\u001b[39mkwargs)\n",
      "File \u001b[1;32mc:\\Users\\ASUS\\AppData\\Local\\Programs\\Python\\Python310\\lib\\site-packages\\keras_preprocessing\\image\\directory_iterator.py:115\u001b[0m, in \u001b[0;36mDirectoryIterator.__init__\u001b[1;34m(self, directory, image_data_generator, target_size, color_mode, classes, class_mode, batch_size, shuffle, seed, data_format, save_to_dir, save_prefix, save_format, follow_links, subset, interpolation, dtype)\u001b[0m\n\u001b[0;32m    113\u001b[0m \u001b[39mif\u001b[39;00m \u001b[39mnot\u001b[39;00m classes:\n\u001b[0;32m    114\u001b[0m     classes \u001b[39m=\u001b[39m []\n\u001b[1;32m--> 115\u001b[0m     \u001b[39mfor\u001b[39;00m subdir \u001b[39min\u001b[39;00m \u001b[39msorted\u001b[39m(os\u001b[39m.\u001b[39;49mlistdir(directory)):\n\u001b[0;32m    116\u001b[0m         \u001b[39mif\u001b[39;00m os\u001b[39m.\u001b[39mpath\u001b[39m.\u001b[39misdir(os\u001b[39m.\u001b[39mpath\u001b[39m.\u001b[39mjoin(directory, subdir)):\n\u001b[0;32m    117\u001b[0m             classes\u001b[39m.\u001b[39mappend(subdir)\n",
      "\u001b[1;31mFileNotFoundError\u001b[0m: [WinError 3] The system cannot find the path specified: '/tmp/images\\\\train'"
     ]
    }
   ],
   "source": [
    "train_generator = train_datagen.flow_from_directory(\n",
    "                    train_dir,\n",
    "                    target_size = (150,150),\n",
    "                    batch_size = 4,\n",
    "                    class_mode = 'binary'#karena masalah klasifikasi 2 kelas\n",
    ")\n",
    "\n",
    "validation_generator = test_datagen.flow_from_directory(\n",
    "                    validation_dir,\n",
    "                    target_size = (150,150),\n",
    "                    batch_size = 4,\n",
    "                    class_mode = 'binary'#karena masalah klasifikasi 2 kelas\n",
    ")"
   ]
  },
  {
   "cell_type": "code",
   "execution_count": 8,
   "metadata": {},
   "outputs": [
    {
     "name": "stdout",
     "output_type": "stream",
     "text": [
      "Model: \"sequential\"\n",
      "_________________________________________________________________\n",
      " Layer (type)                Output Shape              Param #   \n",
      "=================================================================\n",
      " conv2d (Conv2D)             (None, 148, 148, 32)      896       \n",
      "                                                                 \n",
      " max_pooling2d (MaxPooling2D  (None, 74, 74, 32)       0         \n",
      " )                                                               \n",
      "                                                                 \n",
      " conv2d_1 (Conv2D)           (None, 72, 72, 64)        18496     \n",
      "                                                                 \n",
      " max_pooling2d_1 (MaxPooling  (None, 36, 36, 64)       0         \n",
      " 2D)                                                             \n",
      "                                                                 \n",
      " conv2d_2 (Conv2D)           (None, 34, 34, 128)       73856     \n",
      "                                                                 \n",
      " max_pooling2d_2 (MaxPooling  (None, 17, 17, 128)      0         \n",
      " 2D)                                                             \n",
      "                                                                 \n",
      " conv2d_3 (Conv2D)           (None, 15, 15, 128)       147584    \n",
      "                                                                 \n",
      " max_pooling2d_3 (MaxPooling  (None, 7, 7, 128)        0         \n",
      " 2D)                                                             \n",
      "                                                                 \n",
      " conv2d_4 (Conv2D)           (None, 5, 5, 512)         590336    \n",
      "                                                                 \n",
      " max_pooling2d_4 (MaxPooling  (None, 2, 2, 512)        0         \n",
      " 2D)                                                             \n",
      "                                                                 \n",
      " flatten (Flatten)           (None, 2048)              0         \n",
      "                                                                 \n",
      " dense (Dense)               (None, 512)               1049088   \n",
      "                                                                 \n",
      " dense_1 (Dense)             (None, 1)                 513       \n",
      "                                                                 \n",
      "=================================================================\n",
      "Total params: 1,880,769\n",
      "Trainable params: 1,880,769\n",
      "Non-trainable params: 0\n",
      "_________________________________________________________________\n"
     ]
    }
   ],
   "source": [
    "model = tf.keras.models.Sequential([\n",
    "    tf.keras.layers.Conv2D(32, (3,3), activation ='relu', input_shape=(150, 150, 3)),\n",
    "    tf.keras.layers.MaxPooling2D(2, 2),\n",
    "    tf.keras.layers.Conv2D(64, (3, 3), activation='relu'),\n",
    "    tf.keras.layers.MaxPooling2D(2,2),\n",
    "    tf.keras.layers.Conv2D(128, (3, 3), activation='relu'),\n",
    "    tf.keras.layers.MaxPooling2D(2,2),\n",
    "    tf.keras.layers.Conv2D(128, (3, 3), activation='relu'),\n",
    "    tf.keras.layers.MaxPooling2D(2,2),\n",
    "    tf.keras.layers.Conv2D(512, (3, 3), activation='relu'),\n",
    "    tf.keras.layers.MaxPooling2D(2,2),\n",
    "    tf.keras.layers.Flatten(),\n",
    "    tf.keras.layers.Dense(512, activation='relu'),\n",
    "    tf.keras.layers.Dense(1, activation='sigmoid')\n",
    "])\n",
    "\n",
    "model.summary()"
   ]
  },
  {
   "cell_type": "code",
   "execution_count": 9,
   "metadata": {},
   "outputs": [],
   "source": [
    "# compile model dengan 'adam' optimizer loss function 'binary_crossentropy' \n",
    "model.compile(loss ='binary_crossentropy',\n",
    "            optimizer = tf.optimizers.Adam(),\n",
    "            metrics = ['accuracy']\n",
    ")"
   ]
  },
  {
   "cell_type": "code",
   "execution_count": 10,
   "metadata": {},
   "outputs": [
    {
     "ename": "NameError",
     "evalue": "name 'train_generator' is not defined",
     "output_type": "error",
     "traceback": [
      "\u001b[1;31m---------------------------------------------------------------------------\u001b[0m",
      "\u001b[1;31mNameError\u001b[0m                                 Traceback (most recent call last)",
      "\u001b[1;32mc:\\Code\\Jupyter notebook\\Latihan membuat model klasifikasi gambar.ipynb Cell 11\u001b[0m in \u001b[0;36m<cell line: 2>\u001b[1;34m()\u001b[0m\n\u001b[0;32m      <a href='vscode-notebook-cell:/c%3A/Code/Jupyter%20notebook/Latihan%20membuat%20model%20klasifikasi%20gambar.ipynb#ch0000010?line=0'>1</a>\u001b[0m \u001b[39m# latih model dengan model.fit\u001b[39;00m\n\u001b[0;32m      <a href='vscode-notebook-cell:/c%3A/Code/Jupyter%20notebook/Latihan%20membuat%20model%20klasifikasi%20gambar.ipynb#ch0000010?line=1'>2</a>\u001b[0m model\u001b[39m.\u001b[39mfit(\n\u001b[1;32m----> <a href='vscode-notebook-cell:/c%3A/Code/Jupyter%20notebook/Latihan%20membuat%20model%20klasifikasi%20gambar.ipynb#ch0000010?line=2'>3</a>\u001b[0m     train_generator,\n\u001b[0;32m      <a href='vscode-notebook-cell:/c%3A/Code/Jupyter%20notebook/Latihan%20membuat%20model%20klasifikasi%20gambar.ipynb#ch0000010?line=3'>4</a>\u001b[0m     steps_per_epoch \u001b[39m=\u001b[39m\u001b[39m25\u001b[39m, \u001b[39m# berapa batch yang akan dieksekusi pada setiap epoch\u001b[39;00m\n\u001b[0;32m      <a href='vscode-notebook-cell:/c%3A/Code/Jupyter%20notebook/Latihan%20membuat%20model%20klasifikasi%20gambar.ipynb#ch0000010?line=4'>5</a>\u001b[0m     epochs \u001b[39m=\u001b[39m \u001b[39m20\u001b[39m, \u001b[39m# tambahkan epoch jika akurasi model belum optimal\u001b[39;00m\n\u001b[0;32m      <a href='vscode-notebook-cell:/c%3A/Code/Jupyter%20notebook/Latihan%20membuat%20model%20klasifikasi%20gambar.ipynb#ch0000010?line=5'>6</a>\u001b[0m     validation_data \u001b[39m=\u001b[39m validation_generator, \u001b[39m# menampilkan pengujian data validasi\u001b[39;00m\n\u001b[0;32m      <a href='vscode-notebook-cell:/c%3A/Code/Jupyter%20notebook/Latihan%20membuat%20model%20klasifikasi%20gambar.ipynb#ch0000010?line=6'>7</a>\u001b[0m     validation_steps \u001b[39m=\u001b[39m \u001b[39m5\u001b[39m, \u001b[39m# berapa batch yang akan dieksekusi pada setiap epoch\u001b[39;00m\n\u001b[0;32m      <a href='vscode-notebook-cell:/c%3A/Code/Jupyter%20notebook/Latihan%20membuat%20model%20klasifikasi%20gambar.ipynb#ch0000010?line=7'>8</a>\u001b[0m     verbose \u001b[39m=\u001b[39m \u001b[39m2\u001b[39m\n\u001b[0;32m      <a href='vscode-notebook-cell:/c%3A/Code/Jupyter%20notebook/Latihan%20membuat%20model%20klasifikasi%20gambar.ipynb#ch0000010?line=8'>9</a>\u001b[0m )\n",
      "\u001b[1;31mNameError\u001b[0m: name 'train_generator' is not defined"
     ]
    }
   ],
   "source": [
    "# latih model dengan model.fit\n",
    "model.fit(\n",
    "    train_generator,\n",
    "    steps_per_epoch =25, # berapa batch yang akan dieksekusi pada setiap epoch\n",
    "    epochs = 20, # tambahkan epoch jika akurasi model belum optimal\n",
    "    validation_data = validation_generator, # menampilkan pengujian data validasi\n",
    "    validation_steps = 5, # berapa batch yang akan dieksekusi pada setiap epoch\n",
    "    verbose = 2\n",
    ")"
   ]
  },
  {
   "cell_type": "code",
   "execution_count": 49,
   "metadata": {},
   "outputs": [
    {
     "ename": "NameError",
     "evalue": "name 'uploaded' is not defined",
     "output_type": "error",
     "traceback": [
      "\u001b[1;31m---------------------------------------------------------------------------\u001b[0m",
      "\u001b[1;31mNameError\u001b[0m                                 Traceback (most recent call last)",
      "\u001b[1;32mc:\\Code\\Jupyter notebook\\Latihan membuat model klasifikasi gambar.ipynb Cell 11\u001b[0m in \u001b[0;36m<cell line: 10>\u001b[1;34m()\u001b[0m\n\u001b[0;32m      <a href='vscode-notebook-cell:/c%3A/Code/Jupyter%20notebook/Latihan%20membuat%20model%20klasifikasi%20gambar.ipynb#ch0000014?line=5'>6</a>\u001b[0m get_ipython()\u001b[39m.\u001b[39mrun_line_magic(\u001b[39m'\u001b[39m\u001b[39mmatplotlib\u001b[39m\u001b[39m'\u001b[39m, \u001b[39m'\u001b[39m\u001b[39minline\u001b[39m\u001b[39m'\u001b[39m)\n\u001b[0;32m      <a href='vscode-notebook-cell:/c%3A/Code/Jupyter%20notebook/Latihan%20membuat%20model%20klasifikasi%20gambar.ipynb#ch0000014?line=7'>8</a>\u001b[0m \u001b[39m# uploaded = files.upload()\u001b[39;00m\n\u001b[1;32m---> <a href='vscode-notebook-cell:/c%3A/Code/Jupyter%20notebook/Latihan%20membuat%20model%20klasifikasi%20gambar.ipynb#ch0000014?line=9'>10</a>\u001b[0m \u001b[39mfor\u001b[39;00m fn \u001b[39min\u001b[39;00m uploaded\u001b[39m.\u001b[39mkeys():\n\u001b[0;32m     <a href='vscode-notebook-cell:/c%3A/Code/Jupyter%20notebook/Latihan%20membuat%20model%20klasifikasi%20gambar.ipynb#ch0000014?line=10'>11</a>\u001b[0m \n\u001b[0;32m     <a href='vscode-notebook-cell:/c%3A/Code/Jupyter%20notebook/Latihan%20membuat%20model%20klasifikasi%20gambar.ipynb#ch0000014?line=11'>12</a>\u001b[0m \u001b[39m# predicting images\u001b[39;00m\n\u001b[0;32m     <a href='vscode-notebook-cell:/c%3A/Code/Jupyter%20notebook/Latihan%20membuat%20model%20klasifikasi%20gambar.ipynb#ch0000014?line=12'>13</a>\u001b[0m     path \u001b[39m=\u001b[39m fn\n\u001b[0;32m     <a href='vscode-notebook-cell:/c%3A/Code/Jupyter%20notebook/Latihan%20membuat%20model%20klasifikasi%20gambar.ipynb#ch0000014?line=13'>14</a>\u001b[0m     img \u001b[39m=\u001b[39m image\u001b[39m.\u001b[39mload_img(path, target_size\u001b[39m=\u001b[39m(\u001b[39m150\u001b[39m,\u001b[39m150\u001b[39m))\n",
      "\u001b[1;31mNameError\u001b[0m: name 'uploaded' is not defined"
     ]
    }
   ],
   "source": [
    "import numpy as np\n",
    "\n",
    "from tensorflow.keras.preprocessing import image\n",
    "import matplotlib.pyplot as plt\n",
    "import matplotlib.image as mpimg\n",
    "%matplotlib inline\n",
    "\n",
    "uploaded = files.upload()\n",
    "\n",
    "for fn in uploaded.keys():\n",
    "\n",
    "# predicting images\n",
    "    path = fn\n",
    "    img = image.load_img(path, target_size=(150,150))\n",
    "    imgplot = plt.imshow(img)\n",
    "x = image.img_to_array(img)\n",
    "x = np.expand_dims(x, axis=0)\n",
    "images = np.vstack([x])\n",
    "\n",
    "classes = model.predict(images, batch_size=10)  \n",
    "print(fn)\n",
    "if classes==0:\n",
    "    print('messy')\n",
    "else:\n",
    "    print('clean')"
   ]
  }
 ],
 "metadata": {
  "kernelspec": {
   "display_name": "Python 3.10.1 64-bit",
   "language": "python",
   "name": "python3"
  },
  "language_info": {
   "codemirror_mode": {
    "name": "ipython",
    "version": 3
   },
   "file_extension": ".py",
   "mimetype": "text/x-python",
   "name": "python",
   "nbconvert_exporter": "python",
   "pygments_lexer": "ipython3",
   "version": "3.10.1"
  },
  "orig_nbformat": 4,
  "vscode": {
   "interpreter": {
    "hash": "27f6fea6f47ae512550f0b8facdbd035a93e1dd89633f7bf2dd00a2502c71d0d"
   }
  }
 },
 "nbformat": 4,
 "nbformat_minor": 2
}
